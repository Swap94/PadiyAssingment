{
 "cells": [
  {
   "cell_type": "markdown",
   "id": "c9148b7e-63aa-4f23-8b94-d0fb0c992de8",
   "metadata": {},
   "source": [
    "# Exploratory Data Analysis for Loan Application Information"
   ]
  },
  {
   "cell_type": "markdown",
   "id": "6cb828ca-16de-4a4c-b911-4c24870817f2",
   "metadata": {},
   "source": [
    "In this notebook, an exploratory data analysis **(EDA)** is performed on **Loan Application Information** data to get data insights which can then be **a help for data scientists.**"
   ]
  },
  {
   "cell_type": "markdown",
   "id": "82612e0b-58ba-4f5b-a716-39447538ffa1",
   "metadata": {},
   "source": [
    "## Table of Contents"
   ]
  },
  {
   "cell_type": "markdown",
   "id": "f36a529e-e856-4b96-9e6c-9f75e2591bab",
   "metadata": {},
   "source": [
    "1. [Import Packages](#ImportPackages)"
   ]
  },
  {
   "cell_type": "markdown",
   "id": "e9e20599-7da3-4064-b4c9-283dac9c30a7",
   "metadata": {},
   "source": [
    "## Import Packages"
   ]
  },
  {
   "cell_type": "code",
   "execution_count": null,
   "id": "db6b999a-19d5-4b19-8749-d6eae1aaae0c",
   "metadata": {},
   "outputs": [],
   "source": [
    "from sqlalchemy import create_engine\n",
    "import pymysql\n",
    "import pandas as pd\n",
    "import matplotlib.pyplot as plt\n",
    "import seaborn as sns\n",
    "%matplotlib inline"
   ]
  },
  {
   "cell_type": "markdown",
   "id": "1ff7d306-f197-4399-93fc-f6ccbbd56b5f",
   "metadata": {},
   "source": [
    "## Import Data"
   ]
  },
  {
   "cell_type": "code",
   "execution_count": null,
   "id": "22223e99-20e3-4651-b889-60a648b069ae",
   "metadata": {},
   "outputs": [],
   "source": [
    "sqlEngine       = create_engine(f'mysql+pymysql://{user}:{password}@{host}', pool_recycle=3306)\n",
    "dbConnection    = sqlEngine.connect()\n",
    "frame           = pd.read_sql(\"select * from paidyassignment.loan_applicant_info\", dbConnection)"
   ]
  }
 ],
 "metadata": {
  "kernelspec": {
   "display_name": "Python 3",
   "language": "python",
   "name": "python3"
  },
  "language_info": {
   "codemirror_mode": {
    "name": "ipython",
    "version": 3
   },
   "file_extension": ".py",
   "mimetype": "text/x-python",
   "name": "python",
   "nbconvert_exporter": "python",
   "pygments_lexer": "ipython3",
   "version": "3.8.6rc1"
  }
 },
 "nbformat": 4,
 "nbformat_minor": 5
}
